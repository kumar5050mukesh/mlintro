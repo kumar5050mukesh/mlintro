{
 "cells": [
  {
   "cell_type": "code",
   "execution_count": null,
   "metadata": {},
   "outputs": [],
   "source": [
    "# \"\"\" Q(1) explain the following with an example artificial intelligence , machine learning, deep learning \"\"\"\n",
    "\n",
    "\"\"\"answers- -(a)ARTIFICIAL INTELLIGENCE -artificial intelligence aims to create such machines that can make their own decesions \n",
    "and that requires some intelligence to perform the activity .\n",
    "\n",
    "(b)MACHINE LEARNING  machine learning is  a part of computer science in which the computer learns from data \n",
    "machine leraning is the science of progrmming in which the machine  learns from data \n",
    "Machine learning has the following parts -->\n",
    "\n",
    "rule based systems -> these are rule based systems in which the rules are predefined and the computer acts according to it \n",
    "machine learining -> computer learns from data \n",
    "deep learning -> the neural network is used \n",
    "nlp-> understand and interpret human languages \n",
    "\n",
    "\n",
    "\n",
    "(c)DEEP LEARNING -deep learning is the advance of machine learning in which machine  use the neural network to learn from data \n",
    "\"\"\""
   ]
  },
  {
   "cell_type": "code",
   "execution_count": null,
   "metadata": {},
   "outputs": [],
   "source": [
    "# Q2- What is supervised learning ,give some examples of the supervised learning\n",
    "\"\"\"in the supervised learning the training data we feed contain the desired solution known as labels  for example suppose \n",
    "we want to filter the spam filters ,most of the classification problems come under the supervised learning \"\"\""
   ]
  },
  {
   "cell_type": "code",
   "execution_count": null,
   "metadata": {},
   "outputs": [],
   "source": [
    "# what is unsupervised learning give some example of the unsupervised learning \n",
    "\"\"\"in the unsupervised learning the data does not have labels ,the machine  tries to learn itself from data  , the main technique \n",
    "used in the unsupervised learning is the clustering technique \"\"\""
   ]
  },
  {
   "cell_type": "code",
   "execution_count": null,
   "metadata": {},
   "outputs": [],
   "source": [
    "# Q4- What is the diffrence between  AI, ML, DL, and DS?\n",
    "\"\"\"Artificial intelligence is the whole ecosystem in which in the machines can do    the task that  generally \n",
    "require human intelligence .\n",
    "Machine learning is the art and science of programming in which machine learns from data .\n",
    "\n",
    "Deep learning neural network is used for the machine learning .\n",
    "\n",
    "Data science is the field or the subject in which we study about the AL,ML,DL,DS\"\"\""
   ]
  },
  {
   "cell_type": "code",
   "execution_count": null,
   "metadata": {},
   "outputs": [],
   "source": [
    "#Q5 what is the main diffrence between the supervised ,semi supervised , unsupervised learning\n",
    "\n",
    "\"\"\"In supervised learning data has labels with it , the data is fed along the algorithm , the machine learns from \n",
    "the labelled data for example in a image recognition machine learning system  a  image of dog or cat is fed with the labels\n",
    "and the  machine learns to identify the dog and cat \"\"\"\n",
    "\n",
    "\"\"\"In unsupervised learning the training data does not have any labels so the machine makes learns about pattern of \n",
    "data and teaches  itself \"\"\"\n",
    "\n",
    "\"\"\"In the semi supervised learning  the labelled data set is limited or the labelled training data is costly  to obtain ,\n",
    "in the training data a mixture of labelled and unlabelled data is fed \"\"\""
   ]
  },
  {
   "cell_type": "code",
   "execution_count": null,
   "metadata": {},
   "outputs": [],
   "source": [
    "#Q6 what is the train test and the validation split ?explain the importance of each term?\n",
    "\"\"\"The data set is divided in to three subsets the train test and the validation dataset \n",
    "the train dataset is used to train the model , the test part of the data is used to \n",
    "test the output or performance and the validation dataset  is used for the finetuning the model \"\"\"\n"
   ]
  },
  {
   "cell_type": "code",
   "execution_count": null,
   "metadata": {},
   "outputs": [],
   "source": [
    "# Q7- How can unsupervised learning can be used in the anomaly detection \n",
    "\"\"\" If the machine learning algorithm tries to find out the relation within dataset and if some data point \n",
    "that does make any relationship with the data .The  anomaly detection  alogorithm like k means is used to find \n",
    "this data or outliers     \"\"\""
   ]
  },
  {
   "cell_type": "code",
   "execution_count": null,
   "metadata": {},
   "outputs": [],
   "source": [
    "#Q8 list down some of the supervised and unsupervised learning algorithms \n",
    "\n",
    "\"\"\"Supervised learnimg algorithms (logistic regression, linear regression, support vector machines, decesion trees)\n",
    "Unsupervised learnimg algorithms(clustering , principal component analysis ,anomaly detection,auto encoders )\"\"\""
   ]
  }
 ],
 "metadata": {
  "language_info": {
   "name": "python"
  },
  "orig_nbformat": 4
 },
 "nbformat": 4,
 "nbformat_minor": 2
}
